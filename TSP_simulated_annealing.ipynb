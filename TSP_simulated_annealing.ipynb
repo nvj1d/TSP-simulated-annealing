{
  "nbformat": 4,
  "nbformat_minor": 0,
  "metadata": {
    "colab": {
      "name": "TSP_simulated_annealing.ipynb",
      "provenance": [],
      "authorship_tag": "ABX9TyN0QH1ve0fDCGqxVSe0cFSe"
    },
    "kernelspec": {
      "name": "python3",
      "display_name": "Python 3"
    },
    "language_info": {
      "name": "python"
    }
  },
  "cells": [
    {
      "cell_type": "code",
      "execution_count": null,
      "metadata": {
        "id": "I4fKTlUF8XOv"
      },
      "outputs": [],
      "source": [
        "#import the libriries\n",
        "import math\n",
        "import random\n",
        "import matplotlib.pyplot as plt"
      ]
    },
    {
      "cell_type": "code",
      "source": [
        "#visualise the TSP\n",
        "def plotTSP(paths, points, num_iters=1):\n",
        "\n",
        "    \"\"\"\n",
        "    paths: List of lists with the different orders in which the nodes are visited\n",
        "    points: coordinates for the different nodes\n",
        "    num_iters: number of paths that are in the paths list\n",
        "    \"\"\"\n",
        "\n",
        "    # Unpack the primary TSP path and transform it into a list of ordered\n",
        "    # coordinates\n",
        "\n",
        "    x = []; y = []\n",
        "    for i in paths[0]:\n",
        "        x.append(points[i][0])\n",
        "        y.append(points[i][1])\n",
        "\n",
        "    plt.plot(x, y, 'co')\n",
        "\n",
        "    # Set a scale for the arrow heads (there should be a reasonable default for this, WTF?)\n",
        "    a_scale = float(max(x))/float(100)\n",
        "\n",
        "    # Draw the older paths, if provided\n",
        "    if num_iters > 1:\n",
        "\n",
        "        for i in range(1, num_iters):\n",
        "\n",
        "            # Transform the old paths into a list of coordinates\n",
        "            xi = []; yi = [];\n",
        "            for j in paths[i]:\n",
        "                xi.append(points[j][0])\n",
        "                yi.append(points[j][1])\n",
        "\n",
        "            plt.arrow(xi[-1], yi[-1], (xi[0] - xi[-1]), (yi[0] - yi[-1]),\n",
        "                    head_width = a_scale, color = 'r',\n",
        "                    length_includes_head = True, ls = 'dashed',\n",
        "                    width = 0.001/float(num_iters))\n",
        "            for i in range(0, len(x) - 1):\n",
        "                plt.arrow(xi[i], yi[i], (xi[i+1] - xi[i]), (yi[i+1] - yi[i]),\n",
        "                        head_width = a_scale, color = 'r', length_includes_head = True,\n",
        "                        ls = 'dashed', width = 0.001/float(num_iters))\n",
        "\n",
        "    # Draw the primary path for the TSP problem\n",
        "    plt.arrow(x[-1], y[-1], (x[0] - x[-1]), (y[0] - y[-1]), head_width = a_scale,\n",
        "            color ='g', length_includes_head=True)\n",
        "    for i in range(0,len(x)-1):\n",
        "        plt.arrow(x[i], y[i], (x[i+1] - x[i]), (y[i+1] - y[i]), head_width = a_scale,\n",
        "                color = 'g', length_includes_head = True)\n",
        "\n",
        "    #Set axis too slitghtly larger than the set of x and y\n",
        "    plt.xlim(min(x)*1.1, max(x)*1.1)\n",
        "    plt.ylim(min(y)*1.1, max(y)*1.1)\n",
        "    plt.show()"
      ],
      "metadata": {
        "id": "ls4J7XM--up2"
      },
      "execution_count": null,
      "outputs": []
    },
    {
      "cell_type": "code",
      "source": [
        "class SimAnneal(object):\n",
        "    def __init__(self, coords, T=-1, alpha=-1, stopping_T=-1, stopping_iter=-1):\n",
        "        self.coords = coords\n",
        "        self.N = len(coords)\n",
        "        self.T = math.sqrt(self.N) if T == -1 else T\n",
        "        self.T_save = self.T  # save inital T to reset if batch annealing is used\n",
        "        self.alpha = 0.995 if alpha == -1 else alpha\n",
        "        self.stopping_temperature = 1e-8 if stopping_T == -1 else stopping_T\n",
        "        self.stopping_iter = 100000 if stopping_iter == -1 else stopping_iter\n",
        "        self.iteration = 1\n",
        "\n",
        "        self.nodes = [i for i in range(self.N)]\n",
        "\n",
        "        self.best_solution = None\n",
        "        self.best_fitness = float(\"Inf\")\n",
        "        self.fitness_list = []\n",
        "\n",
        "    def initial_solution(self):\n",
        "        \"\"\"\n",
        "        Greedy algorithm to get an initial solution (closest-neighbour).\n",
        "        \"\"\"\n",
        "        cur_node = random.choice(self.nodes)  # start from a random node\n",
        "        solution = [cur_node]\n",
        "\n",
        "        free_nodes = set(self.nodes)\n",
        "        free_nodes.remove(cur_node)\n",
        "        while free_nodes:\n",
        "            next_node = min(free_nodes, key=lambda x: self.dist(cur_node, x))  # nearest neighbour\n",
        "            free_nodes.remove(next_node)\n",
        "            solution.append(next_node)\n",
        "            cur_node = next_node\n",
        "\n",
        "        cur_fit = self.fitness(solution)\n",
        "        if cur_fit < self.best_fitness:  # If best found so far, update best fitness\n",
        "            self.best_fitness = cur_fit\n",
        "            self.best_solution = solution\n",
        "        self.fitness_list.append(cur_fit)\n",
        "        return solution, cur_fit\n",
        "\n",
        "    def dist(self, node_0, node_1):\n",
        "        \"\"\"\n",
        "        Euclidean distance between two nodes.\n",
        "        \"\"\"\n",
        "        coord_0, coord_1 = self.coords[node_0], self.coords[node_1]\n",
        "        return math.sqrt((coord_0[0] - coord_1[0]) ** 2 + (coord_0[1] - coord_1[1]) ** 2)\n",
        "\n",
        "    def fitness(self, solution):\n",
        "        \"\"\"\n",
        "        Total distance of the current solution path.\n",
        "        \"\"\"\n",
        "        cur_fit = 0\n",
        "        for i in range(self.N):\n",
        "            cur_fit += self.dist(solution[i % self.N], solution[(i + 1) % self.N])\n",
        "        return cur_fit\n",
        "\n",
        "    def p_accept(self, candidate_fitness):\n",
        "        \"\"\"\n",
        "        Probability of accepting if the candidate is worse than current.\n",
        "        Depends on the current temperature and difference between candidate and current.\n",
        "        \"\"\"\n",
        "        return math.exp(-abs(candidate_fitness - self.cur_fitness) / self.T)\n",
        "\n",
        "    def accept(self, candidate):\n",
        "        \"\"\"\n",
        "        Accept with probability 1 if candidate is better than current.\n",
        "        Accept with probabilty p_accept(..) if candidate is worse.\n",
        "        \"\"\"\n",
        "        candidate_fitness = self.fitness(candidate)\n",
        "        if candidate_fitness < self.cur_fitness:\n",
        "            self.cur_fitness, self.cur_solution = candidate_fitness, candidate\n",
        "            if candidate_fitness < self.best_fitness:\n",
        "                self.best_fitness, self.best_solution = candidate_fitness, candidate\n",
        "        else:\n",
        "            if random.random() < self.p_accept(candidate_fitness):\n",
        "                self.cur_fitness, self.cur_solution = candidate_fitness, candidate\n",
        "\n",
        "    def anneal(self):\n",
        "        \"\"\"\n",
        "        Execute simulated annealing algorithm.\n",
        "        \"\"\"\n",
        "        # Initialize with the greedy solution.\n",
        "        self.cur_solution, self.cur_fitness = self.initial_solution()\n",
        "\n",
        "        print(\"Starting annealing.\")\n",
        "        while self.T >= self.stopping_temperature and self.iteration < self.stopping_iter:\n",
        "            candidate = list(self.cur_solution)\n",
        "            l = random.randint(2, self.N - 1)\n",
        "            i = random.randint(0, self.N - l)\n",
        "            candidate[i : (i + l)] = reversed(candidate[i : (i + l)])\n",
        "            self.accept(candidate)\n",
        "            self.T *= self.alpha\n",
        "            self.iteration += 1\n",
        "\n",
        "            self.fitness_list.append(self.cur_fitness)\n",
        "\n",
        "        print(\"Best fitness obtained: \", self.best_fitness)\n",
        "        improvement = 100 * (self.fitness_list[0] - self.best_fitness) / (self.fitness_list[0])\n",
        "        print(f\"Improvement over greedy heuristic: {improvement : .2f}%\")\n",
        "\n",
        "    def batch_anneal(self, times=10):\n",
        "        \"\"\"\n",
        "        Execute simulated annealing algorithm `times` times, with random initial solutions.\n",
        "        \"\"\"\n",
        "        for i in range(1, times + 1):\n",
        "            print(f\"Iteration {i}/{times} -------------------------------\")\n",
        "            self.T = self.T_save\n",
        "            self.iteration = 1\n",
        "            self.cur_solution, self.cur_fitness = self.initial_solution()\n",
        "            self.anneal()\n",
        "\n",
        "    def visualize_routes(self):\n",
        "        \"\"\"\n",
        "        Visualize the TSP route with matplotlib.\n",
        "        \"\"\"\n",
        "        plotTSP([self.best_solution], self.coords)\n",
        "\n",
        "    def plot_learning(self):\n",
        "        \"\"\"\n",
        "        Plot the fitness through iterations.\n",
        "        \"\"\"\n",
        "        plt.plot([i for i in range(len(self.fitness_list))], self.fitness_list)\n",
        "        plt.ylabel(\"Fitness\")\n",
        "        plt.xlabel(\"Iteration\")\n",
        "        plt.show()"
      ],
      "metadata": {
        "id": "TQj324Ar-L03"
      },
      "execution_count": null,
      "outputs": []
    },
    {
      "cell_type": "code",
      "source": [
        "import random\n",
        "\n",
        "\n",
        "def read_coords(path):\n",
        "    coords = []\n",
        "    with open(path, \"r\") as f:\n",
        "        for line in f.readlines():\n",
        "            line = [float(x.replace(\"\\n\", \"\")) for x in line.split(\" \")]\n",
        "            coords.append(line)\n",
        "    return coords\n",
        "\n",
        "\n",
        "def generate_random_coords(num_nodes):\n",
        "    return [[random.uniform(-1000, 1000), random.uniform(-1000, 1000)] for i in range(num_nodes)]\n",
        "\n",
        "\n",
        "if __name__ == \"__main__\":\n",
        "    coords = read_coords(\"/content/coord.txt\")  # generate_random_coords(100)\n",
        "    sa = SimAnneal(coords, stopping_iter=5000)\n",
        "    sa.anneal()\n",
        "    sa.visualize_routes()\n",
        "    sa.plot_learning()"
      ],
      "metadata": {
        "colab": {
          "base_uri": "https://localhost:8080/",
          "height": 579
        },
        "id": "6RXemX6b-e98",
        "outputId": "79d88712-5c0f-402b-c61e-47e26c13d878"
      },
      "execution_count": null,
      "outputs": [
        {
          "output_type": "stream",
          "name": "stdout",
          "text": [
            "Starting annealing.\n",
            "Best fitness obtained:  626.5531433361679\n",
            "Improvement over greedy heuristic:  13.27%\n"
          ]
        },
        {
          "output_type": "display_data",
          "data": {
            "text/plain": [
              "<Figure size 432x288 with 1 Axes>"
            ],
            "image/png": "[encoded data removed]"
          },
          "metadata": {
            "needs_background": "light"
          }
        },
        {
          "output_type": "display_data",
          "data": {
            "text/plain": [
              "<Figure size 432x288 with 1 Axes>"
            ],
            "image/png": "[encoded data removed]"
          },
          "metadata": {
            "needs_background": "light"
          }
        }
      ]
    },
    {
      "cell_type": "code",
      "source": [
        ""
      ],
      "metadata": {
        "id": "1AMOQZLQ-kn9"
      },
      "execution_count": null,
      "outputs": []
    }
  ]
}